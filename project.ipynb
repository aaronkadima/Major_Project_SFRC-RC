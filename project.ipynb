{
 "cells": [
  {
   "cell_type": "code",
   "execution_count": 21,
   "id": "bf3edce8-e39d-4d09-b3ae-5750953018d1",
   "metadata": {},
   "outputs": [],
   "source": [
    "import math\n",
    "import plotly.express as px\n",
    "import plotly.graph_objects as go"
   ]
  },
  {
   "cell_type": "markdown",
   "id": "a9ca91bf-7506-4278-be1f-1fe59e42bc6d",
   "metadata": {},
   "source": [
    "In this workbook, I am going to set up my calculations for the major project. \n",
    "What I want to achieve ultimately is a tool for the analysis of SFRC-RC beams.\n",
    "I want to use the following tools:\n",
    "- Mobasher's theory for M-phi diagrams of SFRC-RC beams\n",
    "- PyNite for the statics\n",
    "- My theory for the shear check.\n",
    "\n",
    "I also have to make sure that I include test functions for the functions I write.\n"
   ]
  },
  {
   "cell_type": "code",
   "execution_count": 2,
   "id": "5e466f32-3ab3-4f5f-b06f-abab5889cc98",
   "metadata": {},
   "outputs": [],
   "source": [
    "#input values\n",
    "# Concrete material parameters\n",
    "fc= 28.1 #MPa\n",
    "daggmax= 12.5 #mm bar diameter\n",
    "\n",
    "# Reinforcement steel parameters\n",
    "fy= 565 #MPa\n",
    "As= 1005  #mm2\n",
    "ns= 5 #number of bars\n",
    "phibar= 16 #mm bar diameter\n",
    "\n",
    "# Steel fiber parameters\n",
    "rhof= 1 #fiber bond efficiency\n",
    "Vf= 0.0075 #fiber volume fraction\n",
    "df= 0.55 #mm fiber equivalent diameter\n",
    "lf= 35 #mm fiber length\n",
    "\n",
    "# Sectional geometry\n",
    "b= 150 #mm\n",
    "d= 251 #mm\n",
    "h= 300 #mm\n",
    "\n",
    "# Loading conditions\n",
    "#a= #mm\n",
    "#lspan = #mm"
   ]
  },
  {
   "cell_type": "code",
   "execution_count": 3,
   "id": "b58f5be3-16df-4e2b-b4ad-37bcefd2f660",
   "metadata": {},
   "outputs": [],
   "source": [
    "Ec = 57000/12 * fc**(1/2) #MPa, Young's modulus of the concrete\n",
    "ecy= fc / Ec\n",
    "ecu=0.0035\n",
    "Es=200000 #MPa"
   ]
  },
  {
   "cell_type": "code",
   "execution_count": 4,
   "id": "554712d1-cae5-45fd-8c2d-a61fa7e7315d",
   "metadata": {},
   "outputs": [
    {
     "name": "stdout",
     "output_type": "stream",
     "text": [
      "25179.480733327287\n",
      "0.0011159880657430376\n"
     ]
    }
   ],
   "source": [
    "print(Ec)\n",
    "print(ecy)"
   ]
  },
  {
   "cell_type": "code",
   "execution_count": 5,
   "id": "82db5ca8-c001-4152-80c7-587ee88645a7",
   "metadata": {},
   "outputs": [
    {
     "name": "stdout",
     "output_type": "stream",
     "text": [
      "0.026693227091633465\n",
      "0.022333333333333334\n",
      "0.002825\n"
     ]
    }
   ],
   "source": [
    "#General properties\n",
    "\n",
    "rho=As/(b*d)\n",
    "rhog=As/(b*h)\n",
    "#angle=min(max(math.atan(d/a),0.436),0.7854)\n",
    "esy=fy/Es\n",
    "\n",
    "print(rho)\n",
    "print(rhog)\n",
    "#print(angle)\n",
    "print(esy)"
   ]
  },
  {
   "cell_type": "code",
   "execution_count": 6,
   "id": "8af2706f-300e-4aac-9181-93ed0d768e5f",
   "metadata": {},
   "outputs": [
    {
     "name": "stdout",
     "output_type": "stream",
     "text": [
      "0.47727272727272724\n",
      "0.3684545454545454\n",
      "28881.896805241842\n"
     ]
    }
   ],
   "source": [
    "# Properties of the steel fibers\n",
    "\n",
    "F = Vf*lf/df*rhof\n",
    "sigmat=0.772*(lf/df)*Vf*rhof\n",
    "Eten=9500*(fc)**(1/3)\n",
    "\n",
    "print(F)\n",
    "print(sigmat)\n",
    "print(Eten)"
   ]
  },
  {
   "cell_type": "code",
   "execution_count": 7,
   "id": "60e03cfd-30e0-49e2-8ac9-99abfd710586",
   "metadata": {},
   "outputs": [
    {
     "name": "stdout",
     "output_type": "stream",
     "text": [
      "4.8\n",
      "4.532640000000001\n"
     ]
    }
   ],
   "source": [
    "# Determination of tensile strenght of SFRC\n",
    "\n",
    "if fc < 20.5:\n",
    "    ffctmfl=3.7\n",
    "elif fc <25.5:\n",
    "    ffctmfl=4.3\n",
    "elif fc < 30.5:\n",
    "    ffctmfl = 4.8\n",
    "elif fc < 35.5:\n",
    "    ffctmfl = 5.3\n",
    "elif fc < 40.5:\n",
    "    ffctmfl = 5.8\n",
    "elif fc < 45.5:\n",
    "    ffctmfl = 6.3\n",
    "else:\n",
    "    ffctmfl = 6.8\n",
    "\n",
    "print(ffctmfl)\n",
    "\n",
    "sigma1=0.7*ffctmfl*(1.6-d/1000)\n",
    "print(sigma1)\n"
   ]
  },
  {
   "cell_type": "code",
   "execution_count": 8,
   "id": "629830fb-d423-455c-9f4d-b692dd01ffb4",
   "metadata": {},
   "outputs": [
    {
     "data": {
      "text/plain": [
       "0.7789473684210526"
      ]
     },
     "execution_count": 8,
     "metadata": {},
     "output_type": "execute_result"
    }
   ],
   "source": [
    "#Determination of size effect factor\n",
    "\n",
    "if h/10 > 12.5:\n",
    "    if h/10 < 60:\n",
    "        kh=1-0.6*(h/10-12.5)/47.5\n",
    "    elif h/10 >= 60:\n",
    "        kh=0.4\n",
    "else:\n",
    "    kh = 1\n",
    "\n",
    "kh"
   ]
  },
  {
   "cell_type": "code",
   "execution_count": 9,
   "id": "314fc7e4-5df9-490a-84d8-569e5bef765a",
   "metadata": {},
   "outputs": [
    {
     "name": "stdout",
     "output_type": "stream",
     "text": [
      "34.268292682926834\n",
      "4.517430012398486\n",
      "1.6825263157894736 1.301970881468111 1.4922485986287923\n",
      "0.00015693706097507284 22.301934152799788 0.3292228367196142 7.111054959289036 0.8366666666666667 18.000846851902686\n"
     ]
    }
   ],
   "source": [
    "fcuf = fc/0.82\n",
    "fr4=0.63*math.sqrt(fcuf)+0.288*F*math.sqrt(fcuf)+0.052*F\n",
    "sigma2=0.45*kh*ffctmfl\n",
    "sigma3=0.37*fr4*kh\n",
    "sigmap=1/2*(sigma2+sigma3)\n",
    "\n",
    "ecr=sigma1/Eten\n",
    "\n",
    "lambdacu=ecu/ecr\n",
    "mu = sigmap/sigma1\n",
    "om=ecy/ecr\n",
    "alpha=d/h\n",
    "kappa=esy/ecr\n",
    "\n",
    "print(fcuf)\n",
    "print(fr4)\n",
    "print(sigma2, sigma3, sigmap)\n",
    "print(ecr, lambdacu, mu, om, alpha, kappa)"
   ]
  },
  {
   "cell_type": "code",
   "execution_count": 10,
   "id": "bb7f2271-6e7a-4ff0-b4e9-3f5c49ab504a",
   "metadata": {},
   "outputs": [
    {
     "name": "stdout",
     "output_type": "stream",
     "text": [
      "7.139021316000001 1.0462470731671522e-06\n"
     ]
    }
   ],
   "source": [
    "# Cracking moment\n",
    "\n",
    "Mcr=1/6*b*d**2*Eten*ecr/1000000 #kNm\n",
    "k1=(18*rhog*alpha+1)/(18*rhog+2)\n",
    "n=Es/Eten\n",
    "elr1=k1*h/(h-k1*h)*ecr\n",
    "lambdar1=elr1/ecr\n",
    "gamma=(1/(2*k1)*(k1-1)**2+rho*n/k1*(alpha-k1))/(1/2*k1)\n",
    "phicr = 2*ecr/h\n",
    "\n",
    "print(Mcr, phicr)"
   ]
  },
  {
   "cell_type": "code",
   "execution_count": 11,
   "id": "665b8c8a-0811-4f04-a2ad-96c321e52bec",
   "metadata": {},
   "outputs": [
    {
     "name": "stdout",
     "output_type": "stream",
     "text": [
      "53.495278894336636 77.50174072810877\n"
     ]
    }
   ],
   "source": [
    "# Parameters to determine yield moment\n",
    "\n",
    "B1y=om**2+2*mu*(om+1)-1\n",
    "B2y=mu-9*rhog*om\n",
    "B3y=9*rhog*(rhog*9*om**2-2*mu*om)+mu**2\n",
    "B4y=2*om*(9*rhog*kappa+mu)\n",
    "k21y=om/B1y*(B2y+math.sqrt(B3y+2*alpha*rhog*n*B1y))\n",
    "C5y=2*om**3+3*mu*(om**2-1)+2\n",
    "C6y=6*om**2*(9*om*rhog-mu)\n",
    "C7y=3*om**2*(mu-36*rhog*alpha*om)\n",
    "C8y=54*rhog*alpha**2*om**3\n",
    "C9y=-6*om**2*(9*rhog*kappa+mu)\n",
    "C10y=3*om**2*(18*rhog*alpha*kappa+mu)\n",
    "M21=1/(om**2*k21y)*(C5y*k21y**3+C6y*k21y**2+C7y*k21y+C8y)*Mcr\n",
    "phi21 = om/(2*k21y)\n",
    "k22y=B4y/B1y\n",
    "M22=1/om**2*(C5y*k22y**2+C9y*k22y+C10y)*Mcr\n",
    "phi22 = om/(2*k22y)\n",
    "es2=(alpha-k22y)/k22y*om*ecr\n",
    "\n",
    "print(M21, M22)"
   ]
  },
  {
   "cell_type": "code",
   "execution_count": 12,
   "id": "73a45d50-a5c4-4f58-babd-636af2a56664",
   "metadata": {},
   "outputs": [
    {
     "name": "stdout",
     "output_type": "stream",
     "text": [
      "-0.00020277610510115496 53.495278894336636 0.36608018308043494 1.0161599537678636e-05\n"
     ]
    }
   ],
   "source": [
    "# Determination of yield moment\n",
    "\n",
    "if es2 > esy:\n",
    "    My=M22\n",
    "    k2y=k22y\n",
    "    phiy = phi22*phicr\n",
    "else: \n",
    "    My=M21\n",
    "    k2y=k21y\n",
    "    phiy = phi21*phicr\n",
    "\n",
    "print(es2, My, k2y, phiy)"
   ]
  },
  {
   "cell_type": "code",
   "execution_count": 15,
   "id": "47ab3398-ae51-4c22-91b8-17df16c918b6",
   "metadata": {},
   "outputs": [
    {
     "name": "stdout",
     "output_type": "stream",
     "text": [
      "129.52525127649588 103.49242094499134\n"
     ]
    }
   ],
   "source": [
    "# Parameters for ultimate moment\n",
    "\n",
    "B2u=mu-9*rhog*lambdacu\n",
    "B3u=9*rhog*(rhog*9*lambdacu**2-2*mu*lambdacu)\n",
    "B4u=2*lambdacu*(9*rhog*kappa+mu)\n",
    "B5u=20*lambdacu-101+2*mu*(lambdacu+1)\n",
    "C6u=6*lambdacu**2*(9*lambdacu*rhog-mu)\n",
    "C7u=3*lambdacu**2*(mu-36*rhog*alpha*lambdacu)\n",
    "C8u=54*rhog*alpha**2*lambdacu**3\n",
    "C9u=-6*lambdacu**2*(9*rhog*kappa+mu)\n",
    "C10u=3*lambdacu**2*(18*rhog*alpha*kappa+mu)\n",
    "C11u=30*lambdacu**2+3*mu*(lambdacu**2-1)-998\n",
    "k31=lambdacu/B5u*(B2u+math.sqrt(B3u+2*alpha*rhog*n*B5u))\n",
    "k32=B4u/B5u\n",
    "M31=1/(lambdacu**2*k31)*(C11u*k31**3+C6u*k31**2+C7u*k31+C8u)*Mcr\n",
    "phi31 = lambdacu/(2*k31)\n",
    "M32=1/lambdacu**2*(C11u*k32**2+C9u*k32+C10u)*Mcr\n",
    "phi32=lambdacu/(2*k32)\n",
    "es3=(alpha-k32)/k32*lambdacu*ecr\n",
    "\n",
    "print(M31, M32)"
   ]
  },
  {
   "cell_type": "code",
   "execution_count": 16,
   "id": "230da9d3-25c1-40fd-a0bb-4a4668deb396",
   "metadata": {},
   "outputs": [
    {
     "name": "stdout",
     "output_type": "stream",
     "text": [
      "129.52525127649588 2.9670667751949538e-05\n"
     ]
    }
   ],
   "source": [
    "#Calculation of ultimate moment\n",
    "if es3 > esy:\n",
    "    Mult=M32\n",
    "    k3u=k32\n",
    "    phiult = phi32*phicr\n",
    "else: \n",
    "    Mult=M31\n",
    "    k3u=k31\n",
    "    phiult = phi31*phicr\n",
    "\n",
    "print(Mult, phiult)"
   ]
  },
  {
   "cell_type": "code",
   "execution_count": 17,
   "id": "a571f1fd-a037-43b8-a5fb-300583f0188b",
   "metadata": {},
   "outputs": [
    {
     "name": "stdout",
     "output_type": "stream",
     "text": [
      "7.139021316000001 1.0462470731671522e-06 53.495278894336636 1.0161599537678636e-05 129.52525127649588 2.9670667751949538e-05\n"
     ]
    }
   ],
   "source": [
    "print(Mcr, phicr, My, phiy, Mult, phiult)"
   ]
  },
  {
   "cell_type": "code",
   "execution_count": 54,
   "id": "e6c14b23-33f0-4c37-b6a5-b8160563d07a",
   "metadata": {},
   "outputs": [
    {
     "data": {
      "application/vnd.plotly.v1+json": {
       "config": {
        "plotlyServerURL": "https://plot.ly"
       },
       "data": [
        {
         "marker": {
          "color": "Red"
         },
         "type": "scatter",
         "x": [
          0,
          1.0462470731671522e-06,
          1.0161599537678636e-05,
          2.9670667751949538e-05
         ],
         "y": [
          0,
          7.139021316000001,
          53.495278894336636,
          129.52525127649588
         ]
        }
       ],
       "layout": {
        "height": 600,
        "plot_bgcolor": "white",
        "template": {
         "data": {
          "bar": [
           {
            "error_x": {
             "color": "#2a3f5f"
            },
            "error_y": {
             "color": "#2a3f5f"
            },
            "marker": {
             "line": {
              "color": "#E5ECF6",
              "width": 0.5
             },
             "pattern": {
              "fillmode": "overlay",
              "size": 10,
              "solidity": 0.2
             }
            },
            "type": "bar"
           }
          ],
          "barpolar": [
           {
            "marker": {
             "line": {
              "color": "#E5ECF6",
              "width": 0.5
             },
             "pattern": {
              "fillmode": "overlay",
              "size": 10,
              "solidity": 0.2
             }
            },
            "type": "barpolar"
           }
          ],
          "carpet": [
           {
            "aaxis": {
             "endlinecolor": "#2a3f5f",
             "gridcolor": "white",
             "linecolor": "white",
             "minorgridcolor": "white",
             "startlinecolor": "#2a3f5f"
            },
            "baxis": {
             "endlinecolor": "#2a3f5f",
             "gridcolor": "white",
             "linecolor": "white",
             "minorgridcolor": "white",
             "startlinecolor": "#2a3f5f"
            },
            "type": "carpet"
           }
          ],
          "choropleth": [
           {
            "colorbar": {
             "outlinewidth": 0,
             "ticks": ""
            },
            "type": "choropleth"
           }
          ],
          "contour": [
           {
            "colorbar": {
             "outlinewidth": 0,
             "ticks": ""
            },
            "colorscale": [
             [
              0,
              "#0d0887"
             ],
             [
              0.1111111111111111,
              "#46039f"
             ],
             [
              0.2222222222222222,
              "#7201a8"
             ],
             [
              0.3333333333333333,
              "#9c179e"
             ],
             [
              0.4444444444444444,
              "#bd3786"
             ],
             [
              0.5555555555555556,
              "#d8576b"
             ],
             [
              0.6666666666666666,
              "#ed7953"
             ],
             [
              0.7777777777777778,
              "#fb9f3a"
             ],
             [
              0.8888888888888888,
              "#fdca26"
             ],
             [
              1,
              "#f0f921"
             ]
            ],
            "type": "contour"
           }
          ],
          "contourcarpet": [
           {
            "colorbar": {
             "outlinewidth": 0,
             "ticks": ""
            },
            "type": "contourcarpet"
           }
          ],
          "heatmap": [
           {
            "colorbar": {
             "outlinewidth": 0,
             "ticks": ""
            },
            "colorscale": [
             [
              0,
              "#0d0887"
             ],
             [
              0.1111111111111111,
              "#46039f"
             ],
             [
              0.2222222222222222,
              "#7201a8"
             ],
             [
              0.3333333333333333,
              "#9c179e"
             ],
             [
              0.4444444444444444,
              "#bd3786"
             ],
             [
              0.5555555555555556,
              "#d8576b"
             ],
             [
              0.6666666666666666,
              "#ed7953"
             ],
             [
              0.7777777777777778,
              "#fb9f3a"
             ],
             [
              0.8888888888888888,
              "#fdca26"
             ],
             [
              1,
              "#f0f921"
             ]
            ],
            "type": "heatmap"
           }
          ],
          "heatmapgl": [
           {
            "colorbar": {
             "outlinewidth": 0,
             "ticks": ""
            },
            "colorscale": [
             [
              0,
              "#0d0887"
             ],
             [
              0.1111111111111111,
              "#46039f"
             ],
             [
              0.2222222222222222,
              "#7201a8"
             ],
             [
              0.3333333333333333,
              "#9c179e"
             ],
             [
              0.4444444444444444,
              "#bd3786"
             ],
             [
              0.5555555555555556,
              "#d8576b"
             ],
             [
              0.6666666666666666,
              "#ed7953"
             ],
             [
              0.7777777777777778,
              "#fb9f3a"
             ],
             [
              0.8888888888888888,
              "#fdca26"
             ],
             [
              1,
              "#f0f921"
             ]
            ],
            "type": "heatmapgl"
           }
          ],
          "histogram": [
           {
            "marker": {
             "pattern": {
              "fillmode": "overlay",
              "size": 10,
              "solidity": 0.2
             }
            },
            "type": "histogram"
           }
          ],
          "histogram2d": [
           {
            "colorbar": {
             "outlinewidth": 0,
             "ticks": ""
            },
            "colorscale": [
             [
              0,
              "#0d0887"
             ],
             [
              0.1111111111111111,
              "#46039f"
             ],
             [
              0.2222222222222222,
              "#7201a8"
             ],
             [
              0.3333333333333333,
              "#9c179e"
             ],
             [
              0.4444444444444444,
              "#bd3786"
             ],
             [
              0.5555555555555556,
              "#d8576b"
             ],
             [
              0.6666666666666666,
              "#ed7953"
             ],
             [
              0.7777777777777778,
              "#fb9f3a"
             ],
             [
              0.8888888888888888,
              "#fdca26"
             ],
             [
              1,
              "#f0f921"
             ]
            ],
            "type": "histogram2d"
           }
          ],
          "histogram2dcontour": [
           {
            "colorbar": {
             "outlinewidth": 0,
             "ticks": ""
            },
            "colorscale": [
             [
              0,
              "#0d0887"
             ],
             [
              0.1111111111111111,
              "#46039f"
             ],
             [
              0.2222222222222222,
              "#7201a8"
             ],
             [
              0.3333333333333333,
              "#9c179e"
             ],
             [
              0.4444444444444444,
              "#bd3786"
             ],
             [
              0.5555555555555556,
              "#d8576b"
             ],
             [
              0.6666666666666666,
              "#ed7953"
             ],
             [
              0.7777777777777778,
              "#fb9f3a"
             ],
             [
              0.8888888888888888,
              "#fdca26"
             ],
             [
              1,
              "#f0f921"
             ]
            ],
            "type": "histogram2dcontour"
           }
          ],
          "mesh3d": [
           {
            "colorbar": {
             "outlinewidth": 0,
             "ticks": ""
            },
            "type": "mesh3d"
           }
          ],
          "parcoords": [
           {
            "line": {
             "colorbar": {
              "outlinewidth": 0,
              "ticks": ""
             }
            },
            "type": "parcoords"
           }
          ],
          "pie": [
           {
            "automargin": true,
            "type": "pie"
           }
          ],
          "scatter": [
           {
            "fillpattern": {
             "fillmode": "overlay",
             "size": 10,
             "solidity": 0.2
            },
            "type": "scatter"
           }
          ],
          "scatter3d": [
           {
            "line": {
             "colorbar": {
              "outlinewidth": 0,
              "ticks": ""
             }
            },
            "marker": {
             "colorbar": {
              "outlinewidth": 0,
              "ticks": ""
             }
            },
            "type": "scatter3d"
           }
          ],
          "scattercarpet": [
           {
            "marker": {
             "colorbar": {
              "outlinewidth": 0,
              "ticks": ""
             }
            },
            "type": "scattercarpet"
           }
          ],
          "scattergeo": [
           {
            "marker": {
             "colorbar": {
              "outlinewidth": 0,
              "ticks": ""
             }
            },
            "type": "scattergeo"
           }
          ],
          "scattergl": [
           {
            "marker": {
             "colorbar": {
              "outlinewidth": 0,
              "ticks": ""
             }
            },
            "type": "scattergl"
           }
          ],
          "scattermapbox": [
           {
            "marker": {
             "colorbar": {
              "outlinewidth": 0,
              "ticks": ""
             }
            },
            "type": "scattermapbox"
           }
          ],
          "scatterpolar": [
           {
            "marker": {
             "colorbar": {
              "outlinewidth": 0,
              "ticks": ""
             }
            },
            "type": "scatterpolar"
           }
          ],
          "scatterpolargl": [
           {
            "marker": {
             "colorbar": {
              "outlinewidth": 0,
              "ticks": ""
             }
            },
            "type": "scatterpolargl"
           }
          ],
          "scatterternary": [
           {
            "marker": {
             "colorbar": {
              "outlinewidth": 0,
              "ticks": ""
             }
            },
            "type": "scatterternary"
           }
          ],
          "surface": [
           {
            "colorbar": {
             "outlinewidth": 0,
             "ticks": ""
            },
            "colorscale": [
             [
              0,
              "#0d0887"
             ],
             [
              0.1111111111111111,
              "#46039f"
             ],
             [
              0.2222222222222222,
              "#7201a8"
             ],
             [
              0.3333333333333333,
              "#9c179e"
             ],
             [
              0.4444444444444444,
              "#bd3786"
             ],
             [
              0.5555555555555556,
              "#d8576b"
             ],
             [
              0.6666666666666666,
              "#ed7953"
             ],
             [
              0.7777777777777778,
              "#fb9f3a"
             ],
             [
              0.8888888888888888,
              "#fdca26"
             ],
             [
              1,
              "#f0f921"
             ]
            ],
            "type": "surface"
           }
          ],
          "table": [
           {
            "cells": {
             "fill": {
              "color": "#EBF0F8"
             },
             "line": {
              "color": "white"
             }
            },
            "header": {
             "fill": {
              "color": "#C8D4E3"
             },
             "line": {
              "color": "white"
             }
            },
            "type": "table"
           }
          ]
         },
         "layout": {
          "annotationdefaults": {
           "arrowcolor": "#2a3f5f",
           "arrowhead": 0,
           "arrowwidth": 1
          },
          "autotypenumbers": "strict",
          "coloraxis": {
           "colorbar": {
            "outlinewidth": 0,
            "ticks": ""
           }
          },
          "colorscale": {
           "diverging": [
            [
             0,
             "#8e0152"
            ],
            [
             0.1,
             "#c51b7d"
            ],
            [
             0.2,
             "#de77ae"
            ],
            [
             0.3,
             "#f1b6da"
            ],
            [
             0.4,
             "#fde0ef"
            ],
            [
             0.5,
             "#f7f7f7"
            ],
            [
             0.6,
             "#e6f5d0"
            ],
            [
             0.7,
             "#b8e186"
            ],
            [
             0.8,
             "#7fbc41"
            ],
            [
             0.9,
             "#4d9221"
            ],
            [
             1,
             "#276419"
            ]
           ],
           "sequential": [
            [
             0,
             "#0d0887"
            ],
            [
             0.1111111111111111,
             "#46039f"
            ],
            [
             0.2222222222222222,
             "#7201a8"
            ],
            [
             0.3333333333333333,
             "#9c179e"
            ],
            [
             0.4444444444444444,
             "#bd3786"
            ],
            [
             0.5555555555555556,
             "#d8576b"
            ],
            [
             0.6666666666666666,
             "#ed7953"
            ],
            [
             0.7777777777777778,
             "#fb9f3a"
            ],
            [
             0.8888888888888888,
             "#fdca26"
            ],
            [
             1,
             "#f0f921"
            ]
           ],
           "sequentialminus": [
            [
             0,
             "#0d0887"
            ],
            [
             0.1111111111111111,
             "#46039f"
            ],
            [
             0.2222222222222222,
             "#7201a8"
            ],
            [
             0.3333333333333333,
             "#9c179e"
            ],
            [
             0.4444444444444444,
             "#bd3786"
            ],
            [
             0.5555555555555556,
             "#d8576b"
            ],
            [
             0.6666666666666666,
             "#ed7953"
            ],
            [
             0.7777777777777778,
             "#fb9f3a"
            ],
            [
             0.8888888888888888,
             "#fdca26"
            ],
            [
             1,
             "#f0f921"
            ]
           ]
          },
          "colorway": [
           "#636efa",
           "#EF553B",
           "#00cc96",
           "#ab63fa",
           "#FFA15A",
           "#19d3f3",
           "#FF6692",
           "#B6E880",
           "#FF97FF",
           "#FECB52"
          ],
          "font": {
           "color": "#2a3f5f"
          },
          "geo": {
           "bgcolor": "white",
           "lakecolor": "white",
           "landcolor": "#E5ECF6",
           "showlakes": true,
           "showland": true,
           "subunitcolor": "white"
          },
          "hoverlabel": {
           "align": "left"
          },
          "hovermode": "closest",
          "mapbox": {
           "style": "light"
          },
          "paper_bgcolor": "white",
          "plot_bgcolor": "#E5ECF6",
          "polar": {
           "angularaxis": {
            "gridcolor": "white",
            "linecolor": "white",
            "ticks": ""
           },
           "bgcolor": "#E5ECF6",
           "radialaxis": {
            "gridcolor": "white",
            "linecolor": "white",
            "ticks": ""
           }
          },
          "scene": {
           "xaxis": {
            "backgroundcolor": "#E5ECF6",
            "gridcolor": "white",
            "gridwidth": 2,
            "linecolor": "white",
            "showbackground": true,
            "ticks": "",
            "zerolinecolor": "white"
           },
           "yaxis": {
            "backgroundcolor": "#E5ECF6",
            "gridcolor": "white",
            "gridwidth": 2,
            "linecolor": "white",
            "showbackground": true,
            "ticks": "",
            "zerolinecolor": "white"
           },
           "zaxis": {
            "backgroundcolor": "#E5ECF6",
            "gridcolor": "white",
            "gridwidth": 2,
            "linecolor": "white",
            "showbackground": true,
            "ticks": "",
            "zerolinecolor": "white"
           }
          },
          "shapedefaults": {
           "line": {
            "color": "#2a3f5f"
           }
          },
          "ternary": {
           "aaxis": {
            "gridcolor": "white",
            "linecolor": "white",
            "ticks": ""
           },
           "baxis": {
            "gridcolor": "white",
            "linecolor": "white",
            "ticks": ""
           },
           "bgcolor": "#E5ECF6",
           "caxis": {
            "gridcolor": "white",
            "linecolor": "white",
            "ticks": ""
           }
          },
          "title": {
           "x": 0.05
          },
          "xaxis": {
           "automargin": true,
           "gridcolor": "white",
           "linecolor": "white",
           "ticks": "",
           "title": {
            "standoff": 15
           },
           "zerolinecolor": "white",
           "zerolinewidth": 2
          },
          "yaxis": {
           "automargin": true,
           "gridcolor": "white",
           "linecolor": "white",
           "ticks": "",
           "title": {
            "standoff": 15
           },
           "zerolinecolor": "white",
           "zerolinewidth": 2
          }
         }
        },
        "title": {
         "text": "Moment-curvature diagram of SFRC-RC beam"
        },
        "width": 900,
        "xaxis": {
         "autorange": true,
         "gridcolor": "rgb(245, 245, 245)",
         "range": [
          -1.836111937573187e-06,
          3.150677968952272e-05
         ],
         "showgrid": true,
         "title": {
          "text": "Curvature (-)"
         },
         "type": "linear",
         "zeroline": true,
         "zerolinecolor": "LightGray",
         "zerolinewidth": 2
        },
        "yaxis": {
         "autorange": true,
         "gridcolor": "rgb(245, 245, 245)",
         "range": [
          -8.65249654276187,
          138.17774781925775
         ],
         "showgrid": true,
         "title": {
          "text": "Bending moment (kNm)"
         },
         "type": "linear",
         "zeroline": true,
         "zerolinecolor": "LightGray",
         "zerolinewidth": 2
        }
       }
      },
      "image/png": "[encoded data removed]",
      "text/html": [
       "<div>                            <div id=\"02e266e4-eb5b-4bfa-8ea2-342236bccd9b\" class=\"plotly-graph-div\" style=\"height:600px; width:900px;\"></div>            <script type=\"text/javascript\">                require([\"plotly\"], function(Plotly) {                    window.PLOTLYENV=window.PLOTLYENV || {};                                    if (document.getElementById(\"02e266e4-eb5b-4bfa-8ea2-342236bccd9b\")) {                    Plotly.newPlot(                        \"02e266e4-eb5b-4bfa-8ea2-342236bccd9b\",                        [{\"x\":[0,1.0462470731671522e-06,1.0161599537678636e-05,2.9670667751949538e-05],\"y\":[0,7.139021316000001,53.495278894336636,129.52525127649588],\"type\":\"scatter\",\"marker\":{\"color\":\"Red\"}}],                        {\"template\":{\"data\":{\"histogram2dcontour\":[{\"type\":\"histogram2dcontour\",\"colorbar\":{\"outlinewidth\":0,\"ticks\":\"\"},\"colorscale\":[[0.0,\"#0d0887\"],[0.1111111111111111,\"#46039f\"],[0.2222222222222222,\"#7201a8\"],[0.3333333333333333,\"#9c179e\"],[0.4444444444444444,\"#bd3786\"],[0.5555555555555556,\"#d8576b\"],[0.6666666666666666,\"#ed7953\"],[0.7777777777777778,\"#fb9f3a\"],[0.8888888888888888,\"#fdca26\"],[1.0,\"#f0f921\"]]}],\"choropleth\":[{\"type\":\"choropleth\",\"colorbar\":{\"outlinewidth\":0,\"ticks\":\"\"}}],\"histogram2d\":[{\"type\":\"histogram2d\",\"colorbar\":{\"outlinewidth\":0,\"ticks\":\"\"},\"colorscale\":[[0.0,\"#0d0887\"],[0.1111111111111111,\"#46039f\"],[0.2222222222222222,\"#7201a8\"],[0.3333333333333333,\"#9c179e\"],[0.4444444444444444,\"#bd3786\"],[0.5555555555555556,\"#d8576b\"],[0.6666666666666666,\"#ed7953\"],[0.7777777777777778,\"#fb9f3a\"],[0.8888888888888888,\"#fdca26\"],[1.0,\"#f0f921\"]]}],\"heatmap\":[{\"type\":\"heatmap\",\"colorbar\":{\"outlinewidth\":0,\"ticks\":\"\"},\"colorscale\":[[0.0,\"#0d0887\"],[0.1111111111111111,\"#46039f\"],[0.2222222222222222,\"#7201a8\"],[0.3333333333333333,\"#9c179e\"],[0.4444444444444444,\"#bd3786\"],[0.5555555555555556,\"#d8576b\"],[0.6666666666666666,\"#ed7953\"],[0.7777777777777778,\"#fb9f3a\"],[0.8888888888888888,\"#fdca26\"],[1.0,\"#f0f921\"]]}],\"heatmapgl\":[{\"type\":\"heatmapgl\",\"colorbar\":{\"outlinewidth\":0,\"ticks\":\"\"},\"colorscale\":[[0.0,\"#0d0887\"],[0.1111111111111111,\"#46039f\"],[0.2222222222222222,\"#7201a8\"],[0.3333333333333333,\"#9c179e\"],[0.4444444444444444,\"#bd3786\"],[0.5555555555555556,\"#d8576b\"],[0.6666666666666666,\"#ed7953\"],[0.7777777777777778,\"#fb9f3a\"],[0.8888888888888888,\"#fdca26\"],[1.0,\"#f0f921\"]]}],\"contourcarpet\":[{\"type\":\"contourcarpet\",\"colorbar\":{\"outlinewidth\":0,\"ticks\":\"\"}}],\"contour\":[{\"type\":\"contour\",\"colorbar\":{\"outlinewidth\":0,\"ticks\":\"\"},\"colorscale\":[[0.0,\"#0d0887\"],[0.1111111111111111,\"#46039f\"],[0.2222222222222222,\"#7201a8\"],[0.3333333333333333,\"#9c179e\"],[0.4444444444444444,\"#bd3786\"],[0.5555555555555556,\"#d8576b\"],[0.6666666666666666,\"#ed7953\"],[0.7777777777777778,\"#fb9f3a\"],[0.8888888888888888,\"#fdca26\"],[1.0,\"#f0f921\"]]}],\"surface\":[{\"type\":\"surface\",\"colorbar\":{\"outlinewidth\":0,\"ticks\":\"\"},\"colorscale\":[[0.0,\"#0d0887\"],[0.1111111111111111,\"#46039f\"],[0.2222222222222222,\"#7201a8\"],[0.3333333333333333,\"#9c179e\"],[0.4444444444444444,\"#bd3786\"],[0.5555555555555556,\"#d8576b\"],[0.6666666666666666,\"#ed7953\"],[0.7777777777777778,\"#fb9f3a\"],[0.8888888888888888,\"#fdca26\"],[1.0,\"#f0f921\"]]}],\"mesh3d\":[{\"type\":\"mesh3d\",\"colorbar\":{\"outlinewidth\":0,\"ticks\":\"\"}}],\"scatter\":[{\"fillpattern\":{\"fillmode\":\"overlay\",\"size\":10,\"solidity\":0.2},\"type\":\"scatter\"}],\"parcoords\":[{\"type\":\"parcoords\",\"line\":{\"colorbar\":{\"outlinewidth\":0,\"ticks\":\"\"}}}],\"scatterpolargl\":[{\"type\":\"scatterpolargl\",\"marker\":{\"colorbar\":{\"outlinewidth\":0,\"ticks\":\"\"}}}],\"bar\":[{\"error_x\":{\"color\":\"#2a3f5f\"},\"error_y\":{\"color\":\"#2a3f5f\"},\"marker\":{\"line\":{\"color\":\"#E5ECF6\",\"width\":0.5},\"pattern\":{\"fillmode\":\"overlay\",\"size\":10,\"solidity\":0.2}},\"type\":\"bar\"}],\"scattergeo\":[{\"type\":\"scattergeo\",\"marker\":{\"colorbar\":{\"outlinewidth\":0,\"ticks\":\"\"}}}],\"scatterpolar\":[{\"type\":\"scatterpolar\",\"marker\":{\"colorbar\":{\"outlinewidth\":0,\"ticks\":\"\"}}}],\"histogram\":[{\"marker\":{\"pattern\":{\"fillmode\":\"overlay\",\"size\":10,\"solidity\":0.2}},\"type\":\"histogram\"}],\"scattergl\":[{\"type\":\"scattergl\",\"marker\":{\"colorbar\":{\"outlinewidth\":0,\"ticks\":\"\"}}}],\"scatter3d\":[{\"type\":\"scatter3d\",\"line\":{\"colorbar\":{\"outlinewidth\":0,\"ticks\":\"\"}},\"marker\":{\"colorbar\":{\"outlinewidth\":0,\"ticks\":\"\"}}}],\"scattermapbox\":[{\"type\":\"scattermapbox\",\"marker\":{\"colorbar\":{\"outlinewidth\":0,\"ticks\":\"\"}}}],\"scatterternary\":[{\"type\":\"scatterternary\",\"marker\":{\"colorbar\":{\"outlinewidth\":0,\"ticks\":\"\"}}}],\"scattercarpet\":[{\"type\":\"scattercarpet\",\"marker\":{\"colorbar\":{\"outlinewidth\":0,\"ticks\":\"\"}}}],\"carpet\":[{\"aaxis\":{\"endlinecolor\":\"#2a3f5f\",\"gridcolor\":\"white\",\"linecolor\":\"white\",\"minorgridcolor\":\"white\",\"startlinecolor\":\"#2a3f5f\"},\"baxis\":{\"endlinecolor\":\"#2a3f5f\",\"gridcolor\":\"white\",\"linecolor\":\"white\",\"minorgridcolor\":\"white\",\"startlinecolor\":\"#2a3f5f\"},\"type\":\"carpet\"}],\"table\":[{\"cells\":{\"fill\":{\"color\":\"#EBF0F8\"},\"line\":{\"color\":\"white\"}},\"header\":{\"fill\":{\"color\":\"#C8D4E3\"},\"line\":{\"color\":\"white\"}},\"type\":\"table\"}],\"barpolar\":[{\"marker\":{\"line\":{\"color\":\"#E5ECF6\",\"width\":0.5},\"pattern\":{\"fillmode\":\"overlay\",\"size\":10,\"solidity\":0.2}},\"type\":\"barpolar\"}],\"pie\":[{\"automargin\":true,\"type\":\"pie\"}]},\"layout\":{\"autotypenumbers\":\"strict\",\"colorway\":[\"#636efa\",\"#EF553B\",\"#00cc96\",\"#ab63fa\",\"#FFA15A\",\"#19d3f3\",\"#FF6692\",\"#B6E880\",\"#FF97FF\",\"#FECB52\"],\"font\":{\"color\":\"#2a3f5f\"},\"hovermode\":\"closest\",\"hoverlabel\":{\"align\":\"left\"},\"paper_bgcolor\":\"white\",\"plot_bgcolor\":\"#E5ECF6\",\"polar\":{\"bgcolor\":\"#E5ECF6\",\"angularaxis\":{\"gridcolor\":\"white\",\"linecolor\":\"white\",\"ticks\":\"\"},\"radialaxis\":{\"gridcolor\":\"white\",\"linecolor\":\"white\",\"ticks\":\"\"}},\"ternary\":{\"bgcolor\":\"#E5ECF6\",\"aaxis\":{\"gridcolor\":\"white\",\"linecolor\":\"white\",\"ticks\":\"\"},\"baxis\":{\"gridcolor\":\"white\",\"linecolor\":\"white\",\"ticks\":\"\"},\"caxis\":{\"gridcolor\":\"white\",\"linecolor\":\"white\",\"ticks\":\"\"}},\"coloraxis\":{\"colorbar\":{\"outlinewidth\":0,\"ticks\":\"\"}},\"colorscale\":{\"sequential\":[[0.0,\"#0d0887\"],[0.1111111111111111,\"#46039f\"],[0.2222222222222222,\"#7201a8\"],[0.3333333333333333,\"#9c179e\"],[0.4444444444444444,\"#bd3786\"],[0.5555555555555556,\"#d8576b\"],[0.6666666666666666,\"#ed7953\"],[0.7777777777777778,\"#fb9f3a\"],[0.8888888888888888,\"#fdca26\"],[1.0,\"#f0f921\"]],\"sequentialminus\":[[0.0,\"#0d0887\"],[0.1111111111111111,\"#46039f\"],[0.2222222222222222,\"#7201a8\"],[0.3333333333333333,\"#9c179e\"],[0.4444444444444444,\"#bd3786\"],[0.5555555555555556,\"#d8576b\"],[0.6666666666666666,\"#ed7953\"],[0.7777777777777778,\"#fb9f3a\"],[0.8888888888888888,\"#fdca26\"],[1.0,\"#f0f921\"]],\"diverging\":[[0,\"#8e0152\"],[0.1,\"#c51b7d\"],[0.2,\"#de77ae\"],[0.3,\"#f1b6da\"],[0.4,\"#fde0ef\"],[0.5,\"#f7f7f7\"],[0.6,\"#e6f5d0\"],[0.7,\"#b8e186\"],[0.8,\"#7fbc41\"],[0.9,\"#4d9221\"],[1,\"#276419\"]]},\"xaxis\":{\"gridcolor\":\"white\",\"linecolor\":\"white\",\"ticks\":\"\",\"title\":{\"standoff\":15},\"zerolinecolor\":\"white\",\"automargin\":true,\"zerolinewidth\":2},\"yaxis\":{\"gridcolor\":\"white\",\"linecolor\":\"white\",\"ticks\":\"\",\"title\":{\"standoff\":15},\"zerolinecolor\":\"white\",\"automargin\":true,\"zerolinewidth\":2},\"scene\":{\"xaxis\":{\"backgroundcolor\":\"#E5ECF6\",\"gridcolor\":\"white\",\"linecolor\":\"white\",\"showbackground\":true,\"ticks\":\"\",\"zerolinecolor\":\"white\",\"gridwidth\":2},\"yaxis\":{\"backgroundcolor\":\"#E5ECF6\",\"gridcolor\":\"white\",\"linecolor\":\"white\",\"showbackground\":true,\"ticks\":\"\",\"zerolinecolor\":\"white\",\"gridwidth\":2},\"zaxis\":{\"backgroundcolor\":\"#E5ECF6\",\"gridcolor\":\"white\",\"linecolor\":\"white\",\"showbackground\":true,\"ticks\":\"\",\"zerolinecolor\":\"white\",\"gridwidth\":2}},\"shapedefaults\":{\"line\":{\"color\":\"#2a3f5f\"}},\"annotationdefaults\":{\"arrowcolor\":\"#2a3f5f\",\"arrowhead\":0,\"arrowwidth\":1},\"geo\":{\"bgcolor\":\"white\",\"landcolor\":\"#E5ECF6\",\"subunitcolor\":\"white\",\"showland\":true,\"showlakes\":true,\"lakecolor\":\"white\"},\"title\":{\"x\":0.05},\"mapbox\":{\"style\":\"light\"}}},\"title\":{\"text\":\"Moment-curvature diagram of SFRC-RC beam\"},\"width\":900,\"height\":600,\"xaxis\":{\"title\":{\"text\":\"Curvature (-)\"},\"zeroline\":true,\"zerolinewidth\":2,\"zerolinecolor\":\"LightGray\",\"range\":[0,null],\"showgrid\":true,\"gridcolor\":\"rgb(245, 245, 245)\"},\"yaxis\":{\"title\":{\"text\":\"Bending moment (kNm)\"},\"zeroline\":true,\"zerolinewidth\":2,\"zerolinecolor\":\"LightGray\",\"range\":[0,null],\"showgrid\":true,\"gridcolor\":\"rgb(245, 245, 245)\"},\"plot_bgcolor\":\"white\"},                        {\"responsive\": true}                    ).then(function(){\n",
       "                            \n",
       "var gd = document.getElementById('02e266e4-eb5b-4bfa-8ea2-342236bccd9b');\n",
       "var x = new MutationObserver(function (mutations, observer) {{\n",
       "        var display = window.getComputedStyle(gd).display;\n",
       "        if (!display || display === 'none') {{\n",
       "            console.log([gd, 'removed!']);\n",
       "            Plotly.purge(gd);\n",
       "            observer.disconnect();\n",
       "        }}\n",
       "}});\n",
       "\n",
       "// Listen for the removal of the full notebook cells\n",
       "var notebookContainer = gd.closest('#notebook-container');\n",
       "if (notebookContainer) {{\n",
       "    x.observe(notebookContainer, {childList: true});\n",
       "}}\n",
       "\n",
       "// Listen for the clearing of the current output cell\n",
       "var outputEl = gd.closest('.output');\n",
       "if (outputEl) {{\n",
       "    x.observe(outputEl, {childList: true});\n",
       "}}\n",
       "\n",
       "                        })                };                });            </script>        </div>"
      ]
     },
     "metadata": {},
     "output_type": "display_data"
    }
   ],
   "source": [
    "fig = go.Figure(data=[go.Scatter(x=[0,phicr, phiy, phiult], y=[0, Mcr, My, Mult])])\n",
    "fig.data[0].marker.color = 'Red'\n",
    "fig.layout.title.text = \"Moment-curvature diagram of SFRC-RC beam\"\n",
    "fig.layout.width = 900\n",
    "fig.layout.height = 600\n",
    "fig.layout.xaxis.title = \"Curvature (-)\"\n",
    "fig.layout.yaxis.title = \"Bending moment (kNm)\"\n",
    "fig.update_xaxes(zeroline=True, zerolinewidth=2, zerolinecolor='LightGray', range=[0, None])\n",
    "fig.update_yaxes(zeroline=True, zerolinewidth=2, zerolinecolor='LightGray', range=[0, None])\n",
    "fig.update_layout(\n",
    "    plot_bgcolor='white',\n",
    "    xaxis_showgrid=True, xaxis_gridcolor='rgb(245, 245, 245)',\n",
    "    yaxis_showgrid=True, yaxis_gridcolor='rgb(245, 245, 245)')\n",
    "fig.show()"
   ]
  },
  {
   "cell_type": "code",
   "execution_count": 55,
   "id": "6b26ca0d-8340-4502-8984-33eaf7cdf28e",
   "metadata": {},
   "outputs": [],
   "source": [
    "import SFRC"
   ]
  },
  {
   "cell_type": "code",
   "execution_count": 56,
   "id": "19793297-33d4-41cc-806d-ba99490be78e",
   "metadata": {},
   "outputs": [
    {
     "data": {
      "text/plain": [
       "[[14.814046800000003, 45.86742947733356, 47.284680767146064],\n",
       " [5.427696788461228e-07, 1.2845129554804879e-05, 7.747070291263787e-05]]"
      ]
     },
     "execution_count": 56,
     "metadata": {},
     "output_type": "execute_result"
    }
   ],
   "source": [
    "SFRC.momentcurvatureSFRC(fc= 28, daggmax= 16, fy = 400, As= 226, rhof = 1, Vf = 0.005, df = 0.55, lf = 35, b = 120, d = 435, h = 500)"
   ]
  },
  {
   "cell_type": "code",
   "execution_count": null,
   "id": "4927d303-5f2a-4a1d-adcc-c90888dc45da",
   "metadata": {},
   "outputs": [],
   "source": []
  }
 ],
 "metadata": {
  "kernelspec": {
   "display_name": "Python 3.10 (pfse)",
   "language": "python",
   "name": "pfse"
  },
  "language_info": {
   "codemirror_mode": {
    "name": "ipython",
    "version": 3
   },
   "file_extension": ".py",
   "mimetype": "text/x-python",
   "name": "python",
   "nbconvert_exporter": "python",
   "pygments_lexer": "ipython3",
   "version": "3.10.12"
  }
 },
 "nbformat": 4,
 "nbformat_minor": 5
}
